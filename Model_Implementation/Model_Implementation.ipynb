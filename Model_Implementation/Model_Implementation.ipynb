{
 "cells": [
  {
   "cell_type": "markdown",
   "id": "9f9d7157",
   "metadata": {},
   "source": [
    "<h1 style=\"text-align:center;font-size:30px;color:darkblue;\">Model Implementation (By self Model Implementation) 👇</h1>"
   ]
  },
  {
   "cell_type": "markdown",
   "id": "cf3efc16",
   "metadata": {},
   "source": [
    "# imports"
   ]
  },
  {
   "cell_type": "code",
   "execution_count": 1,
   "id": "1763c0af",
   "metadata": {
    "ExecuteTime": {
     "end_time": "2023-01-02T20:40:27.680807Z",
     "start_time": "2023-01-02T20:40:18.361546Z"
    }
   },
   "outputs": [],
   "source": [
    "import tensorflow\n",
    "import numpy\n",
    "from matplotlib import pyplot\n",
    "import os\n",
    "import pickle\n",
    "import keras\n",
    "from sklearn.metrics import confusion_matrix,classification_report\n",
    "from keras.utils.vis_utils import plot_model\n",
    "import seaborn"
   ]
  },
  {
   "cell_type": "markdown",
   "id": "1a54780b",
   "metadata": {},
   "source": [
    "## Configurations"
   ]
  },
  {
   "cell_type": "code",
   "execution_count": 2,
   "id": "fafb2c9a",
   "metadata": {
    "ExecuteTime": {
     "end_time": "2023-01-02T20:40:46.972127Z",
     "start_time": "2023-01-02T20:40:46.943915Z"
    }
   },
   "outputs": [],
   "source": [
    "# %matplotlib qt;\n",
    "%matplotlib inline\n",
    "pyplot.rcParams[\"figure.figsize\"] = (5, 3)"
   ]
  },
  {
   "cell_type": "code",
   "execution_count": 3,
   "id": "33b66494",
   "metadata": {
    "ExecuteTime": {
     "end_time": "2023-01-02T20:41:10.253910Z",
     "start_time": "2023-01-02T20:41:10.235875Z"
    }
   },
   "outputs": [],
   "source": [
    "Data_Path=\"../Data/Main_Data\""
   ]
  },
  {
   "cell_type": "code",
   "execution_count": 4,
   "id": "40da6436",
   "metadata": {
    "ExecuteTime": {
     "end_time": "2023-01-02T20:41:18.407513Z",
     "start_time": "2023-01-02T20:41:18.398008Z"
    }
   },
   "outputs": [],
   "source": [
    "Training_Data_Ratio=0.8"
   ]
  },
  {
   "cell_type": "code",
   "execution_count": 5,
   "id": "2de2a803",
   "metadata": {
    "ExecuteTime": {
     "end_time": "2023-01-02T20:41:26.787943Z",
     "start_time": "2023-01-02T20:41:26.779932Z"
    }
   },
   "outputs": [],
   "source": [
    "class_list=os.listdir(Data_Path)"
   ]
  },
  {
   "cell_type": "code",
   "execution_count": 6,
   "id": "bad14cd5",
   "metadata": {
    "ExecuteTime": {
     "end_time": "2023-01-02T20:41:34.310821Z",
     "start_time": "2023-01-02T20:41:34.296403Z"
    }
   },
   "outputs": [
    {
     "data": {
      "text/plain": [
       "['angry', 'disgust', 'fear', 'happy', 'sad', 'surprise']"
      ]
     },
     "execution_count": 6,
     "metadata": {},
     "output_type": "execute_result"
    }
   ],
   "source": [
    "class_list"
   ]
  },
  {
   "cell_type": "code",
   "execution_count": 7,
   "id": "cd0b545f",
   "metadata": {
    "ExecuteTime": {
     "end_time": "2023-01-02T20:41:49.869683Z",
     "start_time": "2023-01-02T20:41:49.851686Z"
    }
   },
   "outputs": [],
   "source": [
    "Object_Data_Path=\"../Data/Preprocessed_Data/\""
   ]
  },
  {
   "cell_type": "code",
   "execution_count": 8,
   "id": "566aa1c9",
   "metadata": {
    "ExecuteTime": {
     "end_time": "2023-01-02T20:41:57.851187Z",
     "start_time": "2023-01-02T20:41:57.824152Z"
    }
   },
   "outputs": [],
   "source": [
    "pickle_training_features=open(Object_Data_Path+\"pickle_training_features.pickle\",\"rb\")\n",
    "Training_Features=pickle.load(pickle_training_features)\n",
    "pickle_training_features.close()\n",
    "pickle_training_labels=open(Object_Data_Path+\"pickle_training_labels.pickle\",\"rb\")\n",
    "Training_Label=pickle.load(pickle_training_labels)\n",
    "pickle_training_labels.close()"
   ]
  },
  {
   "cell_type": "code",
   "execution_count": 9,
   "id": "95720cd4",
   "metadata": {
    "ExecuteTime": {
     "end_time": "2023-01-02T20:42:07.800198Z",
     "start_time": "2023-01-02T20:42:07.785171Z"
    }
   },
   "outputs": [],
   "source": [
    "pickle_testing_features=open(Object_Data_Path+\"pickle_testing_features.pickle\",\"rb\")\n",
    "Testing_Features=pickle.load(pickle_testing_features)\n",
    "pickle_testing_features.close()\n",
    "pickle_testing_labels=open(Object_Data_Path+\"pickle_testing_labels.pickle\",\"rb\")\n",
    "Testing_Label=pickle.load(pickle_testing_labels)\n",
    "pickle_testing_labels.close()"
   ]
  },
  {
   "cell_type": "code",
   "execution_count": 10,
   "id": "c5e6b782",
   "metadata": {
    "ExecuteTime": {
     "end_time": "2023-01-02T20:42:16.814890Z",
     "start_time": "2023-01-02T20:42:16.793891Z"
    }
   },
   "outputs": [
    {
     "data": {
      "text/plain": [
       "(1920, 50)"
      ]
     },
     "execution_count": 10,
     "metadata": {},
     "output_type": "execute_result"
    }
   ],
   "source": [
    "Training_Features.shape"
   ]
  },
  {
   "cell_type": "code",
   "execution_count": 11,
   "id": "c304be4d",
   "metadata": {
    "ExecuteTime": {
     "end_time": "2023-01-02T20:42:35.331075Z",
     "start_time": "2023-01-02T20:42:35.309767Z"
    }
   },
   "outputs": [
    {
     "data": {
      "text/plain": [
       "(1920,)"
      ]
     },
     "execution_count": 11,
     "metadata": {},
     "output_type": "execute_result"
    }
   ],
   "source": [
    "Training_Label.shape"
   ]
  },
  {
   "cell_type": "code",
   "execution_count": 12,
   "id": "70729221",
   "metadata": {
    "ExecuteTime": {
     "end_time": "2023-01-02T20:42:37.977091Z",
     "start_time": "2023-01-02T20:42:37.968057Z"
    }
   },
   "outputs": [
    {
     "data": {
      "text/plain": [
       "(480, 50)"
      ]
     },
     "execution_count": 12,
     "metadata": {},
     "output_type": "execute_result"
    }
   ],
   "source": [
    "Testing_Features.shape"
   ]
  },
  {
   "cell_type": "code",
   "execution_count": 13,
   "id": "3a5e6a60",
   "metadata": {
    "ExecuteTime": {
     "end_time": "2023-01-02T20:42:43.835945Z",
     "start_time": "2023-01-02T20:42:43.812958Z"
    }
   },
   "outputs": [
    {
     "data": {
      "text/plain": [
       "(480,)"
      ]
     },
     "execution_count": 13,
     "metadata": {},
     "output_type": "execute_result"
    }
   ],
   "source": [
    "Testing_Label.shape"
   ]
  },
  {
   "cell_type": "code",
   "execution_count": 17,
   "id": "ffc612cb",
   "metadata": {
    "ExecuteTime": {
     "end_time": "2023-01-02T20:47:40.056297Z",
     "start_time": "2023-01-02T20:47:40.048314Z"
    }
   },
   "outputs": [],
   "source": [
    "input_dimension=Training_Features[0].shape"
   ]
  },
  {
   "cell_type": "code",
   "execution_count": 18,
   "id": "30694311",
   "metadata": {
    "ExecuteTime": {
     "end_time": "2023-01-02T20:47:45.977571Z",
     "start_time": "2023-01-02T20:47:45.969568Z"
    }
   },
   "outputs": [
    {
     "data": {
      "text/plain": [
       "(50, 1)"
      ]
     },
     "execution_count": 18,
     "metadata": {},
     "output_type": "execute_result"
    }
   ],
   "source": [
    "input_dimension"
   ]
  },
  {
   "cell_type": "markdown",
   "id": "6340b3a1",
   "metadata": {},
   "source": [
    "## Praparing Data for Training"
   ]
  },
  {
   "cell_type": "code",
   "execution_count": 14,
   "id": "822118d5",
   "metadata": {
    "ExecuteTime": {
     "end_time": "2023-01-02T20:43:36.284074Z",
     "start_time": "2023-01-02T20:43:36.268042Z"
    }
   },
   "outputs": [],
   "source": [
    "Training_Features=numpy.expand_dims(Training_Features,axis=-1)\n",
    "Testing_Features=numpy.expand_dims(Testing_Features,axis=-1)"
   ]
  },
  {
   "cell_type": "code",
   "execution_count": 15,
   "id": "4ffea873",
   "metadata": {
    "ExecuteTime": {
     "end_time": "2023-01-02T20:43:43.973648Z",
     "start_time": "2023-01-02T20:43:43.962649Z"
    }
   },
   "outputs": [
    {
     "data": {
      "text/plain": [
       "(1920, 50, 1)"
      ]
     },
     "execution_count": 15,
     "metadata": {},
     "output_type": "execute_result"
    }
   ],
   "source": [
    "Training_Features.shape"
   ]
  },
  {
   "cell_type": "code",
   "execution_count": 16,
   "id": "66063223",
   "metadata": {
    "ExecuteTime": {
     "end_time": "2023-01-02T20:43:49.714402Z",
     "start_time": "2023-01-02T20:43:49.698186Z"
    }
   },
   "outputs": [
    {
     "data": {
      "text/plain": [
       "(480, 50, 1)"
      ]
     },
     "execution_count": 16,
     "metadata": {},
     "output_type": "execute_result"
    }
   ],
   "source": [
    "Testing_Features.shape"
   ]
  },
  {
   "cell_type": "markdown",
   "id": "9af907c1",
   "metadata": {},
   "source": [
    "# Model Definition"
   ]
  },
  {
   "cell_type": "code",
   "execution_count": 19,
   "id": "68f0513d",
   "metadata": {
    "ExecuteTime": {
     "end_time": "2023-01-02T20:48:01.519515Z",
     "start_time": "2023-01-02T20:48:00.947785Z"
    }
   },
   "outputs": [],
   "source": [
    "Model=keras.models.Sequential([\n",
    "         keras.layers.LSTM(units=256, return_sequences=False, input_shape=input_dimension),\n",
    "         keras.layers.Dense(units=256, activation='relu'),\n",
    "         keras.layers.Dense(units=64, activation='relu'),\n",
    "         keras.layers.Dense(units=len(class_list), activation='softmax')\n",
    "    ]\n",
    " )"
   ]
  },
  {
   "cell_type": "code",
   "execution_count": 22,
   "id": "70008e3a",
   "metadata": {
    "ExecuteTime": {
     "end_time": "2023-01-02T20:49:19.124055Z",
     "start_time": "2023-01-02T20:49:19.102064Z"
    }
   },
   "outputs": [
    {
     "name": "stdout",
     "output_type": "stream",
     "text": [
      "Model: \"sequential\"\n",
      "____________________________________________________________________________\n",
      " Layer (type)                Output Shape              Param #   Trainable  \n",
      "============================================================================\n",
      " lstm (LSTM)                 (None, 256)               264192    Y          \n",
      "                                                                            \n",
      " dense (Dense)               (None, 256)               65792     Y          \n",
      "                                                                            \n",
      " dense_1 (Dense)             (None, 64)                16448     Y          \n",
      "                                                                            \n",
      " dense_2 (Dense)             (None, 6)                 390       Y          \n",
      "                                                                            \n",
      "============================================================================\n",
      "Total params: 346,822\n",
      "Trainable params: 346,822\n",
      "Non-trainable params: 0\n",
      "____________________________________________________________________________\n"
     ]
    }
   ],
   "source": [
    "Model.summary(expand_nested=True,show_trainable=True,)"
   ]
  },
  {
   "cell_type": "code",
   "execution_count": 21,
   "id": "2ccf03f0",
   "metadata": {
    "ExecuteTime": {
     "end_time": "2023-01-02T20:49:06.310862Z",
     "start_time": "2023-01-02T20:49:05.076709Z"
    }
   },
   "outputs": [
    {
     "data": {
      "image/png": "[encoded data removed]",
      "text/plain": [
       "<IPython.core.display.Image object>"
      ]
     },
     "execution_count": 21,
     "metadata": {},
     "output_type": "execute_result"
    }
   ],
   "source": [
    "plot_model(Model, to_file='defined_model_plot.png', show_shapes=True, show_layer_names=True)"
   ]
  },
  {
   "cell_type": "code",
   "execution_count": 23,
   "id": "cecca193",
   "metadata": {
    "ExecuteTime": {
     "end_time": "2023-01-02T20:49:35.240978Z",
     "start_time": "2023-01-02T20:49:35.208942Z"
    }
   },
   "outputs": [],
   "source": [
    "Model.compile(optimizer='adam',\n",
    "              loss='sparse_categorical_crossentropy',\n",
    "              metrics=['accuracy']\n",
    ")"
   ]
  },
  {
   "cell_type": "code",
   "execution_count": 24,
   "id": "7546f66b",
   "metadata": {
    "ExecuteTime": {
     "end_time": "2023-01-02T20:51:12.738815Z",
     "start_time": "2023-01-02T20:50:05.330991Z"
    }
   },
   "outputs": [
    {
     "name": "stdout",
     "output_type": "stream",
     "text": [
      "Epoch 1/10\n",
      "60/60 [==============================] - 8s 101ms/step - loss: 0.9793 - accuracy: 0.6057 - val_loss: 0.4578 - val_accuracy: 0.8271\n",
      "Epoch 2/10\n",
      "60/60 [==============================] - 6s 93ms/step - loss: 0.3836 - accuracy: 0.8557 - val_loss: 0.2216 - val_accuracy: 0.9271\n",
      "Epoch 3/10\n",
      "60/60 [==============================] - 6s 94ms/step - loss: 0.3174 - accuracy: 0.8859 - val_loss: 0.2739 - val_accuracy: 0.8833\n",
      "Epoch 4/10\n",
      "60/60 [==============================] - 6s 108ms/step - loss: 0.2008 - accuracy: 0.9260 - val_loss: 0.1835 - val_accuracy: 0.9500\n",
      "Epoch 5/10\n",
      "60/60 [==============================] - 7s 112ms/step - loss: 0.1968 - accuracy: 0.9354 - val_loss: 0.1230 - val_accuracy: 0.9667\n",
      "Epoch 6/10\n",
      "60/60 [==============================] - 7s 112ms/step - loss: 0.1620 - accuracy: 0.9438 - val_loss: 0.0797 - val_accuracy: 0.9729\n",
      "Epoch 7/10\n",
      "60/60 [==============================] - 7s 110ms/step - loss: 0.1386 - accuracy: 0.9531 - val_loss: 0.1796 - val_accuracy: 0.9187\n",
      "Epoch 8/10\n",
      "60/60 [==============================] - 8s 129ms/step - loss: 0.1925 - accuracy: 0.9339 - val_loss: 0.1014 - val_accuracy: 0.9729\n",
      "Epoch 9/10\n",
      "60/60 [==============================] - 7s 119ms/step - loss: 0.1413 - accuracy: 0.9573 - val_loss: 0.0565 - val_accuracy: 0.9792\n",
      "Epoch 10/10\n",
      "60/60 [==============================] - 7s 119ms/step - loss: 0.1255 - accuracy: 0.9568 - val_loss: 0.0756 - val_accuracy: 0.9708\n"
     ]
    }
   ],
   "source": [
    "checkpoint_history=Model.fit(\n",
    "    Training_Features,Training_Label,\n",
    "    epochs=10,\n",
    "    verbose=1,\n",
    "    validation_data=(Testing_Features,Testing_Label)\n",
    ")"
   ]
  },
  {
   "cell_type": "markdown",
   "id": "954fc684",
   "metadata": {},
   "source": [
    "## Evaluation"
   ]
  },
  {
   "cell_type": "code",
   "execution_count": 25,
   "id": "e403723f",
   "metadata": {
    "ExecuteTime": {
     "end_time": "2023-01-02T20:51:18.717687Z",
     "start_time": "2023-01-02T20:51:17.635896Z"
    }
   },
   "outputs": [
    {
     "name": "stdout",
     "output_type": "stream",
     "text": [
      "15/15 [==============================] - 1s 40ms/step\n"
     ]
    }
   ],
   "source": [
    "Testing_Predictions=Model.predict(Testing_Features)"
   ]
  },
  {
   "cell_type": "code",
   "execution_count": 26,
   "id": "f631d58c",
   "metadata": {
    "ExecuteTime": {
     "end_time": "2023-01-02T20:51:26.427152Z",
     "start_time": "2023-01-02T20:51:26.415127Z"
    }
   },
   "outputs": [
    {
     "data": {
      "text/plain": [
       "array([1.3248963e-04, 2.5426184e-03, 4.5233690e-05, 9.2937291e-04,\n",
       "       5.6453854e-07, 9.9634969e-01], dtype=float32)"
      ]
     },
     "execution_count": 26,
     "metadata": {},
     "output_type": "execute_result"
    }
   ],
   "source": [
    "Testing_Predictions[0]"
   ]
  },
  {
   "cell_type": "code",
   "execution_count": 27,
   "id": "a9e9d79e",
   "metadata": {
    "ExecuteTime": {
     "end_time": "2023-01-02T20:51:34.387164Z",
     "start_time": "2023-01-02T20:51:34.368130Z"
    }
   },
   "outputs": [
    {
     "data": {
      "text/plain": [
       "5"
      ]
     },
     "execution_count": 27,
     "metadata": {},
     "output_type": "execute_result"
    }
   ],
   "source": [
    "numpy.argmax(Testing_Predictions[0])"
   ]
  },
  {
   "cell_type": "code",
   "execution_count": 28,
   "id": "177d9c1d",
   "metadata": {
    "ExecuteTime": {
     "end_time": "2023-01-02T20:51:41.495187Z",
     "start_time": "2023-01-02T20:51:41.473152Z"
    }
   },
   "outputs": [
    {
     "data": {
      "text/plain": [
       "5"
      ]
     },
     "execution_count": 28,
     "metadata": {},
     "output_type": "execute_result"
    }
   ],
   "source": [
    "Testing_Label[0]"
   ]
  },
  {
   "cell_type": "code",
   "execution_count": 29,
   "id": "249260e7",
   "metadata": {
    "ExecuteTime": {
     "end_time": "2023-01-02T20:51:49.767815Z",
     "start_time": "2023-01-02T20:51:49.751779Z"
    }
   },
   "outputs": [],
   "source": [
    "classification_data=confusion_matrix(\n",
    "    [class_list[i] for i in Testing_Label],\n",
    "    [class_list[numpy.argmax(prediction)] for prediction in Testing_Predictions]\n",
    ")"
   ]
  },
  {
   "cell_type": "code",
   "execution_count": 30,
   "id": "db68631d",
   "metadata": {
    "ExecuteTime": {
     "end_time": "2023-01-02T20:51:55.126879Z",
     "start_time": "2023-01-02T20:51:55.105841Z"
    }
   },
   "outputs": [
    {
     "data": {
      "text/plain": [
       "array([[78,  0,  0,  1,  0,  0],\n",
       "       [ 0, 72,  0,  0,  0,  0],\n",
       "       [ 0,  0, 97,  0,  0,  0],\n",
       "       [ 1,  0,  0, 60,  0, 12],\n",
       "       [ 0,  0,  0,  0, 75,  0],\n",
       "       [ 0,  0,  0,  0,  0, 84]], dtype=int64)"
      ]
     },
     "execution_count": 30,
     "metadata": {},
     "output_type": "execute_result"
    }
   ],
   "source": [
    "classification_data"
   ]
  },
  {
   "cell_type": "code",
   "execution_count": 31,
   "id": "fd30c360",
   "metadata": {
    "ExecuteTime": {
     "end_time": "2023-01-02T20:52:17.185270Z",
     "start_time": "2023-01-02T20:52:16.924869Z"
    }
   },
   "outputs": [
    {
     "data": {
      "text/plain": [
       "<AxesSubplot: >"
      ]
     },
     "execution_count": 31,
     "metadata": {},
     "output_type": "execute_result"
    },
    {
     "data": {
      "image/png": "[encoded data removed]",
      "text/plain": [
       "<Figure size 500x300 with 2 Axes>"
      ]
     },
     "metadata": {},
     "output_type": "display_data"
    }
   ],
   "source": [
    "seaborn.heatmap(classification_data,annot=True)"
   ]
  },
  {
   "cell_type": "code",
   "execution_count": 32,
   "id": "9f145177",
   "metadata": {
    "ExecuteTime": {
     "end_time": "2023-01-02T20:52:39.391181Z",
     "start_time": "2023-01-02T20:52:39.369860Z"
    }
   },
   "outputs": [
    {
     "name": "stdout",
     "output_type": "stream",
     "text": [
      "              precision    recall  f1-score   support\n",
      "\n",
      "       angry       0.99      0.99      0.99        79\n",
      "     disgust       1.00      1.00      1.00        72\n",
      "        fear       1.00      1.00      1.00        97\n",
      "       happy       0.98      0.82      0.90        73\n",
      "         sad       1.00      1.00      1.00        75\n",
      "    surprise       0.88      1.00      0.93        84\n",
      "\n",
      "    accuracy                           0.97       480\n",
      "   macro avg       0.97      0.97      0.97       480\n",
      "weighted avg       0.97      0.97      0.97       480\n",
      "\n"
     ]
    }
   ],
   "source": [
    "print(classification_report(\n",
    "    [class_list[i] for i in Testing_Label],\n",
    "    [class_list[numpy.argmax(prediction)] for prediction in Testing_Predictions]\n",
    "))"
   ]
  },
  {
   "cell_type": "code",
   "execution_count": 33,
   "id": "90336d46",
   "metadata": {
    "ExecuteTime": {
     "end_time": "2023-01-02T20:52:52.337677Z",
     "start_time": "2023-01-02T20:52:51.972259Z"
    }
   },
   "outputs": [],
   "source": [
    "Model.save(\"./Models/DefinedModel.h5\")"
   ]
  },
  {
   "cell_type": "markdown",
   "id": "0fed3f8e",
   "metadata": {},
   "source": [
    "# Model Saving"
   ]
  },
  {
   "cell_type": "code",
   "execution_count": 34,
   "id": "d1d51d3e",
   "metadata": {
    "ExecuteTime": {
     "end_time": "2023-01-02T20:53:13.641474Z",
     "start_time": "2023-01-02T20:53:13.603735Z"
    }
   },
   "outputs": [],
   "source": [
    "Model.save(\"../Model/DefinedModel.h5\")"
   ]
  },
  {
   "cell_type": "code",
   "execution_count": null,
   "id": "dd643930",
   "metadata": {},
   "outputs": [],
   "source": []
  }
 ],
 "metadata": {
  "kernelspec": {
   "display_name": "Python 3 (ipykernel)",
   "language": "python",
   "name": "python3"
  },
  "language_info": {
   "codemirror_mode": {
    "name": "ipython",
    "version": 3
   },
   "file_extension": ".py",
   "mimetype": "text/x-python",
   "name": "python",
   "nbconvert_exporter": "python",
   "pygments_lexer": "ipython3",
   "version": "3.10.8"
  }
 },
 "nbformat": 4,
 "nbformat_minor": 5
}
